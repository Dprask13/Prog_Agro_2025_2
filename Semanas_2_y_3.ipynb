{
  "nbformat": 4,
  "nbformat_minor": 0,
  "metadata": {
    "colab": {
      "provenance": [],
      "authorship_tag": "ABX9TyMPh112oVLDH7i2IcnLBJbX",
      "include_colab_link": true
    },
    "kernelspec": {
      "name": "python3",
      "display_name": "Python 3"
    },
    "language_info": {
      "name": "python"
    }
  },
  "cells": [
    {
      "cell_type": "markdown",
      "metadata": {
        "id": "view-in-github",
        "colab_type": "text"
      },
      "source": [
        "<a href=\"https://colab.research.google.com/github/Dprask13/Prog_Agro_2025_2/blob/main/Semanas_2_y_3.ipynb\" target=\"_parent\"><img src=\"https://colab.research.google.com/assets/colab-badge.svg\" alt=\"Open In Colab\"/></a>"
      ]
    },
    {
      "cell_type": "markdown",
      "source": [
        "# Situación 1: Clasificador de pH del Suelo El pH del suelo\n",
        "Es un factor crítico para la absorción de\n",
        "nutrientes por parte de las plantas. Desarrollarás un programa que recibe un valor de pH e informa al\n",
        "agricultor si el suelo es ácido, neutro o alcalino, ofreciendo una recomendación general."
      ],
      "metadata": {
        "id": "PBHBX9stsKto"
      }
    },
    {
      "cell_type": "code",
      "execution_count": 6,
      "metadata": {
        "colab": {
          "base_uri": "https://localhost:8080/"
        },
        "id": "zAe0c6jbsEh6",
        "outputId": "7628748e-e6fe-4039-8b19-f06efee3790f"
      },
      "outputs": [
        {
          "output_type": "stream",
          "name": "stdout",
          "text": [
            "Este programa clasifica el pH del suelo.\n",
            "Por favor, ingrese el valor de pH medido: 8\n",
            "El suelo es alcalino.\n",
            "Recomendamos el uso de sulfato.\n"
          ]
        }
      ],
      "source": [
        "# Explicar al usuario que el programa clasifica el pH del suelo.\n",
        "print(\"Este programa clasifica el pH del suelo.\")\n",
        "\n",
        "# Pedir al usuario que ingrese el valor de pH medido (puede ser decimal)\n",
        "ph = float(input(\"Por favor, ingrese el valor de pH medido: \"))\n",
        "\n",
        "# Utilizar una estructura 'if' para la primera condición: si el pH es menor que 6.5.\n",
        "if ph < 7:\n",
        "    print(\"El suelo es ácido.\")\n",
        "    # Dentro del 'if', mostrar un mensaje indicando que el suelo es \"Ácido\" y recomendar el uso de cal agrícola.\n",
        "    print(\"Recomendamos el uso de cal agrícola.\")\n",
        "elif ph == 7:\n",
        "    print(\"El suelo es neutro.\")\n",
        "elif ph > 7:\n",
        "    print(\"El suelo es alcalino.\")\n",
        "    print(\"Recomendamos el uso de sulfato.\")"
      ]
    },
    {
      "cell_type": "markdown",
      "metadata": {
        "id": "8bfd05a2"
      },
      "source": [
        "Aquí tienes la explicación línea por línea del código para clasificar el pH del suelo:\n",
        "\n",
        "1.  `print(\"Este programa clasifica el pH del suelo.\")`: Esta línea imprime un mensaje en la consola para informar al usuario sobre el propósito del programa.\n",
        "2.  `ph = float(input(\"Por favor, ingrese el valor de pH medido: \"))`: Esta línea le pide al usuario que ingrese el valor de pH. El texto dentro del `input()` es el mensaje que se muestra al usuario. La función `float()` convierte la entrada del usuario (que inicialmente es texto) a un número decimal, y este valor se almacena en la variable `ph`.\n",
        "3.  `if ph < 7:`: Esta es la primera condición. Comprueba si el valor de `ph` es menor que 7. Si es cierto, el código dentro de este bloque `if` se ejecuta.\n",
        "4.  `print(\"El suelo es ácido.\")`: Si la condición `ph < 7` es verdadera, esta línea imprime que el suelo es ácido.\n",
        "5.  `print(\"Recomendamos el uso de cal agrícola.\")`: Si la condición `ph < 7` es verdadera, esta línea imprime una recomendación para suelos ácidos.\n",
        "6.  `elif ph == 7:`: Esta es la siguiente condición que se comprueba si la condición anterior (`if ph < 7`) fue falsa. Comprueba si el valor de `ph` es exactamente igual a 7. Si es cierto, el código dentro de este bloque `elif` se ejecuta.\n",
        "7.  `print(\"El suelo es neutro.\")`: Si la condición `ph == 7` es verdadera, esta línea imprime que el suelo es neutro.\n",
        "8.  `elif ph > 7:`: Esta es la última condición que se comprueba si las condiciones anteriores (`if ph < 7` y `elif ph == 7`) fueron falsas. Comprueba si el valor de `ph` es mayor que 7. Si es cierto, el código dentro de este bloque `elif` se ejecuta.\n",
        "9.  `print(\"El suelo es alcalino.\")`: Si la condición `ph > 7` es verdadera, esta línea imprime que el suelo es alcalino.\n",
        "10. `print(\"Recomendamos el uso de sulfato.\")`: Si la condición `ph > 7` es verdadera, esta línea imprime una recomendación para suelos alcalinos.\n",
        "\n",
        "En resumen, el programa toma un valor de pH, lo compara con los umbrales de 7 (neutro) y 6.5 (ácido en este caso, aunque el código usa 7 como umbral principal para ácido/alcalino/neutro), y basado en la comparación, imprime la clasificación del suelo y una recomendación."
      ]
    }
  ]
}