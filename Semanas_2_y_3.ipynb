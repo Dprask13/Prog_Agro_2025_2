{
  "nbformat": 4,
  "nbformat_minor": 0,
  "metadata": {
    "colab": {
      "provenance": [],
      "authorship_tag": "ABX9TyOYgCTcDHGVnEkZ0h5F0Gbc",
      "include_colab_link": true
    },
    "kernelspec": {
      "name": "python3",
      "display_name": "Python 3"
    },
    "language_info": {
      "name": "python"
    }
  },
  "cells": [
    {
      "cell_type": "markdown",
      "metadata": {
        "id": "view-in-github",
        "colab_type": "text"
      },
      "source": [
        "<a href=\"https://colab.research.google.com/github/Dprask13/Prog_Agro_2025_2/blob/main/Semanas_2_y_3.ipynb\" target=\"_parent\"><img src=\"https://colab.research.google.com/assets/colab-badge.svg\" alt=\"Open In Colab\"/></a>"
      ]
    },
    {
      "cell_type": "markdown",
      "source": [
        "# Situación 1: Clasificador de pH del Suelo El pH del suelo\n",
        "Es un factor crítico para la absorción de\n",
        "nutrientes por parte de las plantas. Desarrollarás un programa que recibe un valor de pH e informa al\n",
        "agricultor si el suelo es ácido, neutro o alcalino, ofreciendo una recomendación general."
      ],
      "metadata": {
        "id": "PBHBX9stsKto"
      }
    },
    {
      "cell_type": "code",
      "execution_count": 6,
      "metadata": {
        "colab": {
          "base_uri": "https://localhost:8080/"
        },
        "id": "zAe0c6jbsEh6",
        "outputId": "7628748e-e6fe-4039-8b19-f06efee3790f"
      },
      "outputs": [
        {
          "output_type": "stream",
          "name": "stdout",
          "text": [
            "Este programa clasifica el pH del suelo.\n",
            "Por favor, ingrese el valor de pH medido: 8\n",
            "El suelo es alcalino.\n",
            "Recomendamos el uso de sulfato.\n"
          ]
        }
      ],
      "source": [
        "# Explicar al usuario que el programa clasifica el pH del suelo.\n",
        "print(\"Este programa clasifica el pH del suelo.\")\n",
        "\n",
        "# Pedir al usuario que ingrese el valor de pH medido (puede ser decimal)\n",
        "ph = float(input(\"Por favor, ingrese el valor de pH medido: \"))\n",
        "\n",
        "# Utilizar una estructura 'if' para la primera condición: si el pH es menor que 6.5.\n",
        "if ph < 7:\n",
        "    print(\"El suelo es ácido.\")\n",
        "    # Dentro del 'if', mostrar un mensaje indicando que el suelo es \"Ácido\" y recomendar el uso de cal agrícola.\n",
        "    print(\"Recomendamos el uso de cal agrícola.\")\n",
        "elif ph == 7:\n",
        "    print(\"El suelo es neutro.\")\n",
        "elif ph > 7:\n",
        "    print(\"El suelo es alcalino.\")\n",
        "    print(\"Recomendamos el uso de sulfato.\")"
      ]
    },
    {
      "cell_type": "markdown",
      "metadata": {
        "id": "8bfd05a2"
      },
      "source": [
        "Aquí tienes la explicación línea por línea del código para clasificar el pH del suelo:\n",
        "\n",
        "1.  `print(\"Este programa clasifica el pH del suelo.\")`: Esta línea imprime un mensaje en la consola para informar al usuario sobre el propósito del programa.\n",
        "2.  `ph = float(input(\"Por favor, ingrese el valor de pH medido: \"))`: Esta línea le pide al usuario que ingrese el valor de pH. El texto dentro del `input()` es el mensaje que se muestra al usuario. La función `float()` convierte la entrada del usuario (que inicialmente es texto) a un número decimal, y este valor se almacena en la variable `ph`.\n",
        "3.  `if ph < 7:`: Esta es la primera condición. Comprueba si el valor de `ph` es menor que 7. Si es cierto, el código dentro de este bloque `if` se ejecuta.\n",
        "4.  `print(\"El suelo es ácido.\")`: Si la condición `ph < 7` es verdadera, esta línea imprime que el suelo es ácido.\n",
        "5.  `print(\"Recomendamos el uso de cal agrícola.\")`: Si la condición `ph < 7` es verdadera, esta línea imprime una recomendación para suelos ácidos.\n",
        "6.  `elif ph == 7:`: Esta es la siguiente condición que se comprueba si la condición anterior (`if ph < 7`) fue falsa. Comprueba si el valor de `ph` es exactamente igual a 7. Si es cierto, el código dentro de este bloque `elif` se ejecuta.\n",
        "7.  `print(\"El suelo es neutro.\")`: Si la condición `ph == 7` es verdadera, esta línea imprime que el suelo es neutro.\n",
        "8.  `elif ph > 7:`: Esta es la última condición que se comprueba si las condiciones anteriores (`if ph < 7` y `elif ph == 7`) fueron falsas. Comprueba si el valor de `ph` es mayor que 7. Si es cierto, el código dentro de este bloque `elif` se ejecuta.\n",
        "9.  `print(\"El suelo es alcalino.\")`: Si la condición `ph > 7` es verdadera, esta línea imprime que el suelo es alcalino.\n",
        "10. `print(\"Recomendamos el uso de sulfato.\")`: Si la condición `ph > 7` es verdadera, esta línea imprime una recomendación para suelos alcalinos.\n",
        "\n",
        "En resumen, el programa toma un valor de pH, lo compara con los umbrales de 7 (neutro) y 6.5 (ácido en este caso, aunque el código usa 7 como umbral principal para ácido/alcalino/neutro), y basado en la comparación, imprime la clasificación del suelo y una recomendación."
      ]
    },
    {
      "cell_type": "markdown",
      "source": [
        "# Situación 2: Simulación de Crecimiento de un Cultivo\n",
        "Un agrónomo quiere simular el crecimiento\n",
        "en altura de una planta durante 5 semanas. La planta crece a una tasa diferente cada semana. El programa\n",
        "debe solicitar la tasa de crecimiento de cada semana y mostrar la altura total al final."
      ],
      "metadata": {
        "id": "fJgTEdDgyRMi"
      }
    },
    {
      "cell_type": "code",
      "source": [
        "# Inicializar una variable para la altura total de la planta en cero.\n",
        "altura = 0\n",
        "\n",
        "# Mostrar un mensaje que indique que se simulará el crecimiento durante 5 semanas.\n",
        "print(\"Simulación de crecimiento durante cinco semanas\")\n",
        "\n",
        "# Crear un bucle 'for' que se repita 5 veces (una por cada semana).\n",
        "for semana in range(5):\n",
        "  \"\"\"\n",
        "  Dentro del bucle, pedir al usuario el crecimiento de la planta para la semana\n",
        "  actual (ej. \"Ingrese el crecimiento en cm para la semana 1:\").\n",
        "  \"\"\"\n",
        "  crecimiento = float(input(f\"Ingrese el crecimiento en cm para la semana {semana + 1}: \"))\n",
        "\n",
        "  # Actualizar la altura total de la planta sumándole el crecimiento de la semana actual.\n",
        "  altura += crecimiento\n",
        "\n",
        "# Después de que el bucle termine, mostrar la altura total acumulada de la planta.\n",
        "print(f\"Altura total de la planta en la semana es: {altura} cm\")"
      ],
      "metadata": {
        "colab": {
          "base_uri": "https://localhost:8080/"
        },
        "id": "DXNVfIjZyeX6",
        "outputId": "608906c0-0a02-45a9-9c9e-8effc01a07c4"
      },
      "execution_count": 7,
      "outputs": [
        {
          "output_type": "stream",
          "name": "stdout",
          "text": [
            "Simulación de crecimiento durante cinco semanas\n",
            "Ingrese el crecimiento en cm para la semana 1: 12\n",
            "Ingrese el crecimiento en cm para la semana 2: 21\n",
            "Ingrese el crecimiento en cm para la semana 3: 11\n",
            "Ingrese el crecimiento en cm para la semana 4: 22\n",
            "Ingrese el crecimiento en cm para la semana 5: 13\n",
            "Altura total de la planta en la semana es: 79.0 cm\n"
          ]
        }
      ]
    },
    {
      "cell_type": "code",
      "source": [],
      "metadata": {
        "id": "3Nbkon723LpT"
      },
      "execution_count": 11,
      "outputs": []
    },
    {
      "cell_type": "markdown",
      "source": [
        "# Inicializar una lista para almacenar los crecimientos semanales\n",
        "crecimientos_semanales = []\n",
        "altura_total = 0\n",
        "\n",
        "print(\"Simulación de crecimiento durante cinco semanas\")\n",
        "\n",
        "# Crear un bucle 'for' que se repita 5 veces\n",
        "for semana in range(5):\n",
        "  \"\"\"\n",
        "  Pedir al usuario el crecimiento de la planta para la semana actual.\n",
        "  \"\"\"\n",
        "  crecimiento = float(input(f\"Ingrese el crecimiento en cm para la semana {semana + 1}: \"))\n",
        "  crecimientos_semanales.append(crecimiento)\n",
        "  altura_total += crecimiento\n",
        "\n",
        "# Mostrar los crecimientos semanales y la altura total\n",
        "print(\"\\nCrecimientos semanales:\")\n",
        "for i, crecimiento in enumerate(crecimientos_semanales):\n",
        "    print(f\"Semana {i + 1}: {crecimiento} cm\")\n",
        "\n",
        "print(f\"\\nAltura total de la planta en la semana es: {altura_total} cm\")"
      ],
      "metadata": {
        "id": "GENF4eZK5096"
      }
    },
    {
      "cell_type": "markdown",
      "source": [
        "# Inicializar una lista para almacenar los crecimientos semanales\n",
        "crecimientos_semanales = []\n",
        "altura_total = 0\n",
        "\n",
        "print(\"Simulación de crecimiento durante cinco semanas\")\n",
        "\n",
        "# Crear un bucle 'for' que se repita 5 veces\n",
        "for semana in range(5):\n",
        "  \"\"\"\n",
        "  Pedir al usuario el crecimiento de la planta para la semana actual.\n",
        "  \"\"\"\n",
        "  crecimiento = float(input(f\"Ingrese el crecimiento en cm para la semana {semana + 1}: \"))\n",
        "  crecimientos_semanales.append(crecimiento)\n",
        "  altura_total += crecimiento\n",
        "\n",
        "# Mostrar los crecimientos semanales y la altura total\n",
        "print(\"\\nCrecimientos semanales:\")\n",
        "for i, crecimiento in enumerate(crecimientos_semanales):\n",
        "    print(f\"Semana {i + 1}: {crecimiento} cm\")\n",
        "\n",
        "print(f\"\\nAltura total de la planta en la semana es: {altura_total} cm\")"
      ],
      "metadata": {
        "id": "l5mFWO_O5ys_"
      }
    },
    {
      "cell_type": "markdown",
      "source": [
        "# Inicializar una lista para almacenar los crecimientos semanales\n",
        "crecimientos_semanales = []\n",
        "altura_total = 0\n",
        "\n",
        "print(\"Simulación de crecimiento durante cinco semanas\")\n",
        "\n",
        "# Crear un bucle 'for' que se repita 5 veces\n",
        "for semana in range(5):\n",
        "  \"\"\"\n",
        "  Pedir al usuario el crecimiento de la planta para la semana actual.\n",
        "  \"\"\"\n",
        "  crecimiento = float(input(f\"Ingrese el crecimiento en cm para la semana {semana + 1}: \"))\n",
        "  crecimientos_semanales.append(crecimiento)\n",
        "  altura_total += crecimiento\n",
        "\n",
        "# Mostrar los crecimientos semanales y la altura total\n",
        "print(\"\\nCrecimientos semanales:\")\n",
        "for i, crecimiento in enumerate(crecimientos_semanales):\n",
        "    print(f\"Semana {i + 1}: {crecimiento} cm\")\n",
        "\n",
        "print(f\"\\nAltura total de la planta en la semana es: {altura_total} cm\")"
      ],
      "metadata": {
        "id": "cf0c13d9"
      }
    }
  ]
}