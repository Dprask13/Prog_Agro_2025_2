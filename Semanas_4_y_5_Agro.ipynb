{
  "nbformat": 4,
  "nbformat_minor": 0,
  "metadata": {
    "colab": {
      "provenance": [],
      "authorship_tag": "ABX9TyP2FYkNsnbp/qwpwuyX6js/",
      "include_colab_link": true
    },
    "kernelspec": {
      "name": "python3",
      "display_name": "Python 3"
    },
    "language_info": {
      "name": "python"
    }
  },
  "cells": [
    {
      "cell_type": "markdown",
      "metadata": {
        "id": "view-in-github",
        "colab_type": "text"
      },
      "source": [
        "<a href=\"https://colab.research.google.com/github/Dprask13/Prog_Agro_2025_2/blob/main/Semanas_4_y_5_Agro.ipynb\" target=\"_parent\"><img src=\"https://colab.research.google.com/assets/colab-badge.svg\" alt=\"Open In Colab\"/></a>"
      ]
    },
    {
      "cell_type": "markdown",
      "metadata": {
        "id": "8bdaf396"
      },
      "source": [
        "## Listas, Tuplas y Diccionarios en Python: Una Explicación Detallada\n",
        "\n",
        "En Python, las **listas**, **tuplas** y **diccionarios** son estructuras de datos fundamentales utilizadas para almacenar colecciones de elementos. Aunque comparten el propósito de agrupar datos, difieren significativamente en sus características y casos de uso.\n",
        "\n",
        "### Listas\n",
        "\n",
        "Las **listas** son colecciones **ordenadas** y **mutables** de elementos. Se definen utilizando corchetes `[]` y los elementos están separados por comas.\n",
        "\n",
        "**Características Clave:**\n",
        "\n",
        "*   **Ordenadas:** Los elementos en una lista mantienen un orden específico basado en el índice en el que fueron insertados. Puedes acceder a los elementos utilizando su posición (índice) comenzando desde 0.\n",
        "*   **Mutables:** Esto significa que puedes modificar una lista después de crearla. Puedes agregar, eliminar, cambiar o reordenar elementos.\n",
        "*   **Permiten Duplicados:** Una lista puede contener múltiples ocurrencias del mismo elemento.\n",
        "*   **Versátiles:** Pueden contener elementos de diferentes tipos de datos (enteros, cadenas, flotantes, booleanos, otras listas, etc.).\n",
        "\n",
        "**Ejemplo de Lista:**"
      ]
    },
    {
      "cell_type": "code",
      "metadata": {
        "id": "af700091"
      },
      "source": [
        "mi_tupla = (1, \"hola\", 3.14, True, 1)\n",
        "print(mi_tupla[0]) # Acceder al primer elemento: 1\n",
        "# mi_tupla.append(\"nuevo\") # Esto generaría un error porque las tuplas son inmutables\n",
        "# mi_tupla[1] = \"adiós\"   # Esto también generaría un error"
      ],
      "execution_count": null,
      "outputs": []
    },
    {
      "cell_type": "code",
      "metadata": {
        "id": "d34123c9"
      },
      "source": [
        "mi_diccionario = {\"nombre\": \"Juan\", \"edad\": 30, \"ciudad\": \"Madrid\"}\n",
        "print(mi_diccionario[\"nombre\"])       # Acceder al valor asociado a la clave \"nombre\": Juan\n",
        "mi_diccionario[\"profesion\"] = \"Ingeniero\" # Agregar un nuevo par clave-valor\n",
        "mi_diccionario[\"edad\"] = 31           # Modificar el valor asociado a la clave \"edad\"\n",
        "del mi_diccionario[\"ciudad\"]        # Eliminar el par clave-valor con la clave \"ciudad\"\n",
        "print(mi_diccionario)                 # Imprimir el diccionario modificado"
      ],
      "execution_count": null,
      "outputs": []
    },
    {
      "cell_type": "markdown",
      "metadata": {
        "id": "26743e33"
      },
      "source": [
        "## Funciones en Python: Qué Son y Para Qué Son Útiles\n",
        "\n",
        "En Python, una **función** es un bloque de código organizado y reutilizable que realiza una tarea específica. Las funciones son fundamentales para escribir código limpio, modular y eficiente.\n",
        "\n",
        "**¿Qué son las Funciones?**\n",
        "\n",
        "Imagina que tienes una serie de pasos que necesitas realizar varias veces en tu programa, como calcular el área de un círculo o formatear una cadena de texto de una manera particular. En lugar de escribir el mismo código repetidamente, puedes agrupar esos pasos en una función. Luego, cada vez que necesites realizar esa tarea, simplemente \"llamas\" a la función por su nombre.\n",
        "\n",
        "Las funciones se definen utilizando la palabra clave `def`, seguida del nombre de la función, paréntesis `()` que pueden contener parámetros (entradas a la función), y dos puntos `:`. El cuerpo de la función está indentado."
      ]
    },
    {
      "cell_type": "code",
      "metadata": {
        "id": "a13fc684"
      },
      "source": [
        "def saludar(nombre): # 'nombre' es un parámetro\n",
        "  print(f\"¡Hola, {nombre}!\")\n",
        "\n",
        "saludar(\"Ana\") # \"Ana\" es el argumento\n",
        "saludar(\"Luis\") # \"Luis\" es otro argumento"
      ],
      "execution_count": null,
      "outputs": []
    },
    {
      "cell_type": "code",
      "metadata": {
        "id": "3773206c"
      },
      "source": [
        "def sumar(a, b):\n",
        "  resultado = a + b\n",
        "  return resultado # La función devuelve el valor de 'resultado'\n",
        "\n",
        "suma_total = sumar(5, 3) # La variable 'suma_total' ahora contiene 8\n",
        "print(suma_total)"
      ],
      "execution_count": null,
      "outputs": []
    },
    {
      "cell_type": "markdown",
      "source": [
        "**Situación de Interés en Ingeniería Agrícola:**\n",
        "\n",
        "Un agrónomo consultor necesita una herramienta\n",
        "rápida para aconsejar a los agricultores sobre qué cultivos sembrar. Se requiere un programa que almacene información de varios cultivos (nombre, mes ideal de siembra, necesidad de agua) y que, al\n",
        "ingresar el nombre de un mes, recomiende qué cultivos son adecuados para sembrar en ese período.\n",
        "\n",
        "Caso de Ingeniería Agrícola: Planificador de Cultivos (Listas y Funciones)\n",
        "• Paso a Paso del Código:\n",
        "1. Crear una lista donde cada elemento sea un diccionario. Cada diccionario representará un\n",
        "cultivo y tendrá claves como nombre, mes_siembra y riego.\n",
        "2. Crear una función llamada recomendar_cultivos. Esta función recibirá dos parámetros: la\n",
        "lista completa de cultivos y el mes actual.\n",
        "3. Dentro de la función, usar un bucle for para recorrer la lista de cultivos.\n",
        "4. En cada iteración, usar un if para comprobar si el mes_siembra del cultivo coincide con el mes\n",
        "proporcionado.\n",
        "5. Si coinciden, añadir el nombre del cultivo a una nueva lista de recomendados.\n",
        "6. Al final, la función debe devolver la lista de cultivos recomendados.\n",
        "7. En el programa principal, pedir al usuario el mes y llamar a la función para obtener e imprimir\n",
        "las recomendaciones.\n",
        "\n",
        "1.   Elemento de la lista\n",
        "2.   Elemento de la lista\n",
        "\n"
      ],
      "metadata": {
        "id": "_iGuXliL1qt5"
      }
    },
    {
      "cell_type": "code",
      "source": [],
      "metadata": {
        "id": "o840vzhe2nHg"
      },
      "execution_count": null,
      "outputs": []
    },
    {
      "cell_type": "code",
      "metadata": {
        "colab": {
          "base_uri": "https://localhost:8080/"
        },
        "id": "cca06980",
        "outputId": "788cc5b8-41e8-4077-b27e-385a410fe2bb"
      },
      "source": [
        "# 1. Crear una lista donde cada elemento sea un diccionario.\n",
        "cultivos = [\n",
        "    {\"nombre\": \"Maíz\", \"mes_siembra\": \"Abril\", \"riego\": \"Alto\"},\n",
        "    {\"nombre\": \"Trigo\", \"mes_siembra\": \"Octubre\", \"riego\": \"Medio\"},\n",
        "    {\"nombre\": \"Tomate\", \"mes_siembra\": \"Marzo\", \"riego\": \"Alto\"},\n",
        "    {\"nombre\": \"Lechuga\", \"mes_siembra\": \"Febrero\", \"riego\": \"Medio\"},\n",
        "    {\"nombre\": \"Girasol\", \"mes_siembra\": \"Mayo\", \"riego\": \"Bajo\"}\n",
        "]\n",
        "\n",
        "# 2. Crear una función llamada recomendar_cultivos.\n",
        "def recomendar_cultivos(lista_cultivos, mes_actual):\n",
        "  \"\"\"\n",
        "  Recomienda cultivos basados en el mes de siembra ideal.\n",
        "\n",
        "  Args:\n",
        "    lista_cultivos: Una lista de diccionarios, donde cada diccionario representa un cultivo.\n",
        "    mes_actual: El nombre del mes actual.\n",
        "\n",
        "  Returns:\n",
        "    Una lista de nombres de cultivos recomendados para el mes dado.\n",
        "  \"\"\"\n",
        "  recomendados = []\n",
        "  # 3. Usar un bucle for para recorrer la lista de cultivos.\n",
        "  for cultivo in lista_cultivos:\n",
        "    # 4. Usar un if para comprobar si el mes_siembra del cultivo coincide con el mes proporcionado.\n",
        "    if cultivo[\"mes_siembra\"].lower() == mes_actual.lower():\n",
        "      # 5. Si coinciden, añadir el nombre del cultivo a una nueva lista de recomendados.\n",
        "      recomendados.append(cultivo[\"nombre\"])\n",
        "  # 6. Al final, la función debe devolver la lista de cultivos recomendados.\n",
        "  return recomendados\n",
        "\n",
        "# 7. En el programa principal, pedir al usuario el mes y llamar a la función.\n",
        "mes_ingresado = input(\"Ingresa el mes actual para obtener recomendaciones de cultivo: \")\n",
        "\n",
        "cultivos_recomendados = recomendar_cultivos(cultivos, mes_ingresado)\n",
        "\n",
        "# 7. ...para obtener e imprimir las recomendaciones.\n",
        "if cultivos_recomendados:\n",
        "  print(f\"\\nCultivos recomendados para sembrar en {mes_ingresado}:\")\n",
        "  for cultivo in cultivos_recomendados:\n",
        "    print(f\"- {cultivo}\")\n",
        "else:\n",
        "  print(f\"\\nNo hay cultivos recomendados para sembrar en {mes_ingresado} según los datos disponibles.\")"
      ],
      "execution_count": 4,
      "outputs": [
        {
          "output_type": "stream",
          "name": "stdout",
          "text": [
            "Ingresa el mes actual para obtener recomendaciones de cultivo: Febrero\n",
            "\n",
            "Cultivos recomendados para sembrar en Febrero:\n",
            "- Lechuga\n"
          ]
        }
      ]
    },
    {
      "cell_type": "markdown",
      "metadata": {
        "id": "04a49f53"
      },
      "source": [
        "# 1. Crear una lista donde cada elemento sea un diccionario.\n",
        "cultivos = [\n",
        "    {\"nombre\": \"Maíz\", \"mes_siembra\": \"Abril\", \"riego\": \"Alto\"},\n",
        "    {\"nombre\": \"Trigo\", \"mes_siembra\": \"Octubre\", \"riego\": \"Medio\"},\n",
        "    {\"nombre\": \"Tomate\", \"mes_siembra\": \"Marzo\", \"riego\": \"Alto\"},\n",
        "    {\"nombre\": \"Lechuga\", \"mes_siembra\": \"Febrero\", \"riego\": \"Medio\"},\n",
        "    {\"nombre\": \"Girasol\", \"mes_siembra\": \"Mayo\", \"riego\": \"Bajo\"}\n",
        "]\n",
        "\n",
        "# 2. Crear una función llamada recomendar_cultivos.\n",
        "def recomendar_cultivos(lista_cultivos, mes_actual):\n",
        "  \"\"\"\n",
        "  Recomienda cultivos basados en el mes de siembra ideal.\n",
        "\n",
        "  Args:\n",
        "    lista_cultivos: Una lista de diccionarios, donde cada diccionario representa un cultivo.\n",
        "    mes_actual: El nombre del mes actual.\n",
        "\n",
        "  Returns:\n",
        "    Una lista de nombres de cultivos recomendados para el mes dado.\n",
        "  \"\"\"\n",
        "  recomendados = []\n",
        "  # 3. Usar un bucle for para recorrer la lista de cultivos.\n",
        "  for cultivo in lista_cultivos:\n",
        "    # 4. Usar un if para comprobar si el mes_siembra del cultivo coincide con el mes proporcionado.\n",
        "    if cultivo[\"mes_siembra\"].lower() == mes_actual.lower():\n",
        "      # 5. Si coinciden, añadir el nombre del cultivo a una nueva lista de recomendados.\n",
        "      recomendados.append(cultivo[\"nombre\"])\n",
        "  # 6. Al final, la función debe devolver la lista de cultivos recomendados.\n",
        "  return recomendados\n",
        "\n",
        "# 7. En el programa principal, pedir al usuario el mes y llamar a la función.\n",
        "mes_ingresado = input(\"Ingresa el mes actual para obtener recomendaciones de cultivo: \")\n",
        "\n",
        "cultivos_recomendados = recomendar_cultivos(cultivos, mes_ingresado)\n",
        "\n",
        "# 7. ...para obtener e imprimir las recomendaciones.\n",
        "if cultivos_recomendados:\n",
        "  print(f\"\\nCultivos recomendados para sembrar en {mes_ingresado}:\")\n",
        "  for cultivo in cultivos_recomendados:\n",
        "    print(f\"- {cultivo}\")\n",
        "else:\n",
        "  print(f\"\\nNo hay cultivos recomendados para sembrar en {mes_ingresado} según los datos disponibles.\")"
      ]
    },
    {
      "cell_type": "markdown",
      "metadata": {
        "id": "938607de"
      },
      "source": [
        "## Explicación del Código: Planificador de Cultivos\n",
        "\n",
        "Este código Python utiliza listas y funciones para recomendar cultivos basados en el mes de siembra. Aquí se explica cada parte:\n",
        "\n",
        "1.  **Creación de la lista de cultivos:**"
      ]
    },
    {
      "cell_type": "code",
      "metadata": {
        "id": "f3ec5806"
      },
      "source": [
        "    def recomendar_cultivos(lista_cultivos, mes_actual):\n",
        "      \"\"\"\n",
        "      Recomienda cultivos basados en el mes de siembra ideal.\n",
        "\n",
        "      Args:\n",
        "        lista_cultivos: Una lista de diccionarios, donde cada diccionario representa un cultivo.\n",
        "        mes_actual: El nombre del mes actual.\n",
        "\n",
        "      Returns:\n",
        "        Una lista de nombres de cultivos recomendados para el mes dado.\n",
        "      \"\"\"\n",
        "      recomendados = []\n",
        "      # 3. Usar un bucle for para recorrer la lista de cultivos.\n",
        "      for cultivo in lista_cultivos:\n",
        "        # 4. Usar un if para comprobar si el mes_siembra del cultivo coincide con el mes proporcionado.\n",
        "        if cultivo[\"mes_siembra\"].lower() == mes_actual.lower():\n",
        "          # 5. Si coinciden, añadir el nombre del cultivo a una nueva lista de recomendados.\n",
        "          recomendados.append(cultivo[\"nombre\"])\n",
        "      # 6. Al final, la función debe devolver la lista de cultivos recomendados.\n",
        "      return recomendados"
      ],
      "execution_count": null,
      "outputs": []
    },
    {
      "cell_type": "code",
      "metadata": {
        "id": "3054b2d3"
      },
      "source": [
        "    # 7. En el programa principal, pedir al usuario el mes y llamar a la función.\n",
        "    mes_ingresado = input(\"Ingresa el mes actual para obtener recomendaciones de cultivo: \")\n",
        "\n",
        "    cultivos_recomendados = recomendar_cultivos(cultivos, mes_ingresado)\n",
        "\n",
        "    # 7. ...para obtener e imprimir las recomendaciones.\n",
        "    if cultivos_recomendados:\n",
        "      print(f\"\\nCultivos recomendados para sembrar en {mes_ingresado}:\")\n",
        "      for cultivo in cultivos_recomendados:\n",
        "        print(f\"- {cultivo}\")\n",
        "    else:\n",
        "      print(f\"\\nNo hay cultivos recomendados para sembrar en {mes_ingresado} según los datos disponibles.\")"
      ],
      "execution_count": null,
      "outputs": []
    },
    {
      "cell_type": "markdown",
      "source": [
        "#Situación 2: Función para Validar Parámetros de Calidad\n",
        "Una planta recibe lotes de fruta y debe\n",
        "validar si cumplen con los parámetros de pH y grados Brix para ser aceptados. Crearás una función que\n",
        "centralice esta lógica de validación.\n",
        "• Paso a Paso del Código (Guía para el Notebook)\n",
        "\n",
        "1. # Definir una función 'validar_lote' que tome dos parámetros: 'ph' y 'brix'\n",
        "2. # Dentro de la función, usar una estructura 'if' para verificar si el pH está entre 3.5 y 4.5 Y si los grados Brix son mayores a 12.\n",
        "3. # Si ambas condiciones se cumplen, la función debe devolver el valor booleano True.\n",
        "4. # De lo contrario (else), la función debe devolver el valor booleano False.\n",
        "5. # En el programa principal, pedir al usuario el pH y los grados Brix del lote actual.\n",
        "6. # Llamar a la función 'validar_lote' con los datos ingresados y guardar el\n",
        "resultado (True/False) en una variable.\n",
        "7. # Usar un 'if' en el programa principal para comprobar el valor de esa variable.\n",
        "8. # Si la variable es True, imprimir \"Lote APROBADO\". Si es False, imprimir \"Lote RECHAZADO\"."
      ],
      "metadata": {
        "id": "4maL4ATf63Ne"
      }
    },
    {
      "cell_type": "code",
      "metadata": {
        "colab": {
          "base_uri": "https://localhost:8080/"
        },
        "id": "85af14bf",
        "outputId": "52e07b80-c182-4ca0-d9ed-1e556a901c6c"
      },
      "source": [
        "# 1. Definir una función 'validar_lote' que tome dos parámetros: 'ph' y 'brix'\n",
        "def validar_lote(ph, brix):\n",
        "  \"\"\"\n",
        "  Valida si un lote de fruta cumple con los parámetros de pH y grados Brix.\n",
        "\n",
        "  Args:\n",
        "    ph: El valor del pH del lote.\n",
        "    brix: Los grados Brix del lote.\n",
        "\n",
        "  Returns:\n",
        "    True si el lote es aprobado, False en caso contrario.\n",
        "  \"\"\"\n",
        "  # 2. Dentro de la función, usar una estructura 'if' para verificar si el pH está entre 3.5 y 4.5 Y si los grados Brix son mayores a 12.\n",
        "  if 3.5 <= ph <= 4.5 and brix > 12:\n",
        "    # 3. Si ambas condiciones se cumplen, la función debe devolver el valor booleano True.\n",
        "    return True\n",
        "  else:\n",
        "    # 4. De lo contrario (else), la función debe devolver el valor booleano False.\n",
        "    return False\n",
        "\n",
        "# 5. En el programa principal, pedir al usuario el pH y los grados Brix del lote actual.\n",
        "try:\n",
        "  ph_lote = float(input(\"Ingresa el valor de pH del lote: \"))\n",
        "  brix_lote = float(input(\"Ingresa los grados Brix del lote: \"))\n",
        "\n",
        "  # 6. Llamar a la función 'validar_lote' con los datos ingresados y guardar el resultado en una variable.\n",
        "  lote_aprobado = validar_lote(ph_lote, brix_lote)\n",
        "\n",
        "  # 7. Usar un 'if' en el programa principal para comprobar el valor de esa variable.\n",
        "  # 8. Si la variable es True, imprimir \"Lote APROBADO\". Si es False, imprimir \"Lote RECHAZADO\".\n",
        "  if lote_aprobado:\n",
        "    print(\"\\nLote APROBADO\")\n",
        "  else:\n",
        "    print(\"\\nLote RECHAZADO\")\n",
        "\n",
        "except ValueError:\n",
        "  print(\"\\nEntrada no válida. Por favor, ingresa valores numéricos para pH y Brix.\")"
      ],
      "execution_count": 9,
      "outputs": [
        {
          "output_type": "stream",
          "name": "stdout",
          "text": [
            "Ingresa el valor de pH del lote: 4\n",
            "Ingresa los grados Brix del lote: 13\n",
            "\n",
            "Lote APROBADO\n"
          ]
        }
      ]
    },
    {
      "cell_type": "markdown",
      "metadata": {
        "id": "53a42a9b"
      },
      "source": [
        "## Manejo de Errores con `try` y `except` en Python\n",
        "\n",
        "En Python, los bloques `try` y `except` se utilizan para manejar errores (excepciones) que pueden ocurrir durante la ejecución de un programa. Permiten que tu código continúe ejecutándose incluso si surge un problema, en lugar de que el programa se detenga abruptamente.\n",
        "\n",
        "*   **`try:`**: Este bloque contiene el código que podría potencialmente causar un error. Python intentará ejecutar el código dentro de este bloque.\n",
        "\n",
        "*   **`except:`**: Si ocurre un error dentro del bloque `try`, Python buscará un bloque `except` que pueda manejar ese tipo específico de error. El código dentro del bloque `except` se ejecutará si se produce la excepción esperada.\n",
        "\n",
        "Puedes tener múltiples bloques `except` para manejar diferentes tipos de errores. También puedes usar un `except` genérico para capturar cualquier tipo de error si no especificas uno en particular.\n",
        "\n",
        "**Ejemplo simple:**"
      ]
    },
    {
      "cell_type": "markdown",
      "source": [
        "# Ingeniería Agroindustrial Situación 1: Ficha Técnica de un Producto\n",
        "Se necesita un programa para almacenar y mostrar la información clave de un producto alimenticio, como su nombre, lote, fecha de vencimiento y porcentaje de humedad.\n",
        "Un diccionario es perfecto para esto, ya que cada dato tiene una etiqueta clara.\n",
        "\n",
        "• Paso a Paso del Código (Guía para el Notebook)\n",
        "1. # Crear un diccionario vacío llamado 'ficha_producto'.\n",
        "2. # Pedir al usuario el nombre del producto y guardarlo en el diccionario con la clave 'nombre'.\n",
        "3. # Pedir el número de lote y guardarlo con la clave 'lote'.\n",
        "4. # Pedir la fecha de vencimiento y guardarla con la clave 'vencimiento'.\n",
        "5. # Pedir el porcentaje de humedad y guardarlo con la clave 'humedad'.\n",
        "6. # Mostrar un encabezado que diga \"--- Ficha Técnica del Producto ---\".\n",
        "7. # Imprimir cada uno de los valores del diccionario accediendo a ellos a través de sus claves (ej. ficha_producto['nombre']).\n"
      ],
      "metadata": {
        "id": "k7osOoj09T79"
      }
    },
    {
      "cell_type": "code",
      "metadata": {
        "colab": {
          "base_uri": "https://localhost:8080/"
        },
        "id": "befbd04c",
        "outputId": "c893dd1d-3cdc-43b8-808c-73c621815cb7"
      },
      "source": [
        "# 1. Crear un diccionario vacío llamado 'ficha_producto'.\n",
        "# ficha_producto = {} # Ya no necesitamos inicializarlo aquí si vamos a procesar múltiples productos\n",
        "\n",
        "while True:\n",
        "  ficha_producto = {} # Inicializar el diccionario para cada nuevo producto\n",
        "\n",
        "  print(\"\\n--- Ingresa los datos del Producto ---\")\n",
        "\n",
        "  # 2. Pedir al usuario el nombre del producto y guardarlo en el diccionario con la clave 'nombre'.\n",
        "  nombre_producto = input(\"Ingresa el nombre del producto (o escribe 'fin' para terminar): \")\n",
        "  if nombre_producto.lower() == 'fin':\n",
        "    break # Salir del bucle si el usuario escribe 'fin'\n",
        "  ficha_producto['nombre'] = nombre_producto\n",
        "\n",
        "  # 3. Pedir el número de lote y guardarlo con la clave 'lote'.\n",
        "  ficha_producto['lote'] = input(\"Ingresa el número de lote: \")\n",
        "\n",
        "  # 4. Pedir la fecha de vencimiento y guardarla con la clave 'vencimiento'.\n",
        "  ficha_producto['vencimiento'] = input(\"Ingresa la fecha de vencimiento: \")\n",
        "\n",
        "  # 5. Pedir el porcentaje de humedad y guardarlo con la clave 'humedad'.\n",
        "  ficha_producto['humedad'] = input(\"Ingresa el porcentaje de humedad (%): \")\n",
        "\n",
        "  # Opcional: Podríamos almacenar cada ficha_producto en una lista si queremos guardar todas las fichas.\n",
        "  # Por ahora, solo mostraremos la última ficha ingresada al salir del bucle.\n",
        "\n",
        "  # 6. Mostrar un encabezado que diga \"--- Ficha Técnica del Producto ---\".\n",
        "  print(\"\\n--- Ficha Técnica del Producto ---\")\n",
        "\n",
        "  # 7. Imprimir cada uno de los valores del diccionario accediendo a ellos a través de sus claves.\n",
        "  print(f\"Nombre: {ficha_producto['nombre']}\")\n",
        "  print(f\"Lote: {ficha_producto['lote']}\")\n",
        "  print(f\"Fecha de Vencimiento: {ficha_producto['vencimiento']}\")\n",
        "  print(f\"Humedad: {ficha_producto['humedad']}%\")\n",
        "\n",
        "print(\"\\nRegistro de fichas técnicas finalizado.\")"
      ],
      "execution_count": 11,
      "outputs": [
        {
          "output_type": "stream",
          "name": "stdout",
          "text": [
            "\n",
            "--- Ingresa los datos del Producto ---\n",
            "Ingresa el nombre del producto (o escribe 'fin' para terminar): Mango\n",
            "Ingresa el número de lote: 123\n",
            "Ingresa la fecha de vencimiento: 12/12/2027\n",
            "Ingresa el porcentaje de humedad (%): 78\n",
            "\n",
            "--- Ficha Técnica del Producto ---\n",
            "Nombre: Mango\n",
            "Lote: 123\n",
            "Fecha de Vencimiento: 12/12/2027\n",
            "Humedad: 78%\n",
            "\n",
            "--- Ingresa los datos del Producto ---\n",
            "Ingresa el nombre del producto (o escribe 'fin' para terminar): Yuca\n",
            "Ingresa el número de lote: 234\n",
            "Ingresa la fecha de vencimiento: 12/12/2028\n",
            "Ingresa el porcentaje de humedad (%): 80\n",
            "\n",
            "--- Ficha Técnica del Producto ---\n",
            "Nombre: Yuca\n",
            "Lote: 234\n",
            "Fecha de Vencimiento: 12/12/2028\n",
            "Humedad: 80%\n",
            "\n",
            "--- Ingresa los datos del Producto ---\n",
            "Ingresa el nombre del producto (o escribe 'fin' para terminar): fin\n",
            "\n",
            "Registro de fichas técnicas finalizado.\n"
          ]
        }
      ]
    },
    {
      "cell_type": "code",
      "source": [],
      "metadata": {
        "id": "5r1GvNyZ-rEs"
      },
      "execution_count": null,
      "outputs": []
    },
    {
      "cell_type": "markdown",
      "metadata": {
        "id": "91665c99"
      },
      "source": [
        "# Task\n",
        "Reescribe el código de la Situación 1: Ficha Técnica de un Producto, de tal manera que solicite indefinidamente los datos, los almacene en un archivo de excel y finalice cuando el digitador lo deseé."
      ]
    },
    {
      "cell_type": "markdown",
      "metadata": {
        "id": "179806c2"
      },
      "source": [
        "## Modificar la recopilación de datos\n",
        "\n",
        "### Subtask:\n",
        "Ajustar el bucle para que cada ficha de producto (diccionario) se añada a una lista en lugar de sobrescribir la anterior.\n"
      ]
    },
    {
      "cell_type": "markdown",
      "metadata": {
        "id": "d9743bc8"
      },
      "source": [
        "**Reasoning**:\n",
        "The first step is to initialize an empty list to store the product sheets before the loop. Then, within the loop, after gathering the product data, the dictionary will be appended to this list. The initialization of the dictionary inside the loop is no longer needed. The loop termination condition will be kept. The printing of the product sheet within the loop will be removed.\n",
        "\n"
      ]
    },
    {
      "cell_type": "code",
      "metadata": {
        "colab": {
          "base_uri": "https://localhost:8080/",
          "height": 391
        },
        "id": "9417084d",
        "outputId": "fb72bed0-0fa7-4d09-e199-be256f1a0bbc"
      },
      "source": [
        "# 1. Inicializa una lista vacía llamada 'fichas_productos' antes del bucle while.\n",
        "fichas_productos = []\n",
        "\n",
        "while True:\n",
        "  # ficha_producto = {} # Eliminar esta inicialización dentro del bucle\n",
        "\n",
        "  print(\"\\n--- Ingresa los datos del Producto ---\")\n",
        "\n",
        "  # 2. Pedir al usuario el nombre del producto y guardarlo en el diccionario con la clave 'nombre'.\n",
        "  nombre_producto = input(\"Ingresa el nombre del producto (o escribe 'fin' para terminar): \")\n",
        "  if nombre_producto.lower() == 'fin':\n",
        "    break # Salir del bucle si el usuario escribe 'fin'\n",
        "\n",
        "  ficha_producto = {} # Inicializar el diccionario para cada nuevo producto\n",
        "\n",
        "  ficha_producto['nombre'] = nombre_producto\n",
        "\n",
        "  # 3. Pedir el número de lote y guardarlo con la clave 'lote'.\n",
        "  ficha_producto['lote'] = input(\"Ingresa el número de lote: \")\n",
        "\n",
        "  # 4. Pedir la fecha de vencimiento y guardarla con la clave 'vencimiento'.\n",
        "  ficha_producto['vencimiento'] = input(\"Ingresa la fecha de vencimiento: \")\n",
        "\n",
        "  # 5. Pedir el porcentaje de humedad y guardarlo con la clave 'humedad'.\n",
        "  ficha_producto['humedad'] = input(\"Ingresa el porcentaje de humedad (%): \")\n",
        "\n",
        "  # 2. Dentro del bucle while, después de recopilar los datos de un producto en el diccionario ficha_producto, agrega este diccionario a la lista fichas_productos usando el método .append().\n",
        "  fichas_productos.append(ficha_producto)\n",
        "\n",
        "  # 6. Mostrar un encabezado que diga \"--- Ficha Técnica del Producto ---\". # Eliminar impresión inmediata\n",
        "  # print(\"\\n--- Ficha Técnica del Producto ---\")\n",
        "\n",
        "  # 7. Imprimir cada uno de los valores del diccionario accediendo a ellos a través de sus claves. # Eliminar impresión inmediata\n",
        "  # print(f\"Nombre: {ficha_producto['nombre']}\")\n",
        "  # print(f\"Lote: {ficha_producto['lote']}\")\n",
        "  # print(f\"Fecha de Vencimiento: {ficha_producto['vencimiento']}\")\n",
        "  # print(f\"Humedad: {ficha_producto['humedad']}%\")\n",
        "\n",
        "print(\"\\nRegistro de fichas técnicas finalizado.\")\n",
        "# Ahora la lista 'fichas_productos' contiene todos los diccionarios de productos ingresados."
      ],
      "execution_count": 12,
      "outputs": [
        {
          "output_type": "stream",
          "name": "stdout",
          "text": [
            "\n",
            "--- Ingresa los datos del Producto ---\n"
          ]
        },
        {
          "output_type": "error",
          "ename": "KeyboardInterrupt",
          "evalue": "Interrupted by user",
          "traceback": [
            "\u001b[0;31m---------------------------------------------------------------------------\u001b[0m",
            "\u001b[0;31mKeyboardInterrupt\u001b[0m                         Traceback (most recent call last)",
            "\u001b[0;32m/tmp/ipython-input-1824914341.py\u001b[0m in \u001b[0;36m<cell line: 0>\u001b[0;34m()\u001b[0m\n\u001b[1;32m      8\u001b[0m \u001b[0;34m\u001b[0m\u001b[0m\n\u001b[1;32m      9\u001b[0m   \u001b[0;31m# 2. Pedir al usuario el nombre del producto y guardarlo en el diccionario con la clave 'nombre'.\u001b[0m\u001b[0;34m\u001b[0m\u001b[0;34m\u001b[0m\u001b[0m\n\u001b[0;32m---> 10\u001b[0;31m   \u001b[0mnombre_producto\u001b[0m \u001b[0;34m=\u001b[0m \u001b[0minput\u001b[0m\u001b[0;34m(\u001b[0m\u001b[0;34m\"Ingresa el nombre del producto (o escribe 'fin' para terminar): \"\u001b[0m\u001b[0;34m)\u001b[0m\u001b[0;34m\u001b[0m\u001b[0;34m\u001b[0m\u001b[0m\n\u001b[0m\u001b[1;32m     11\u001b[0m   \u001b[0;32mif\u001b[0m \u001b[0mnombre_producto\u001b[0m\u001b[0;34m.\u001b[0m\u001b[0mlower\u001b[0m\u001b[0;34m(\u001b[0m\u001b[0;34m)\u001b[0m \u001b[0;34m==\u001b[0m \u001b[0;34m'fin'\u001b[0m\u001b[0;34m:\u001b[0m\u001b[0;34m\u001b[0m\u001b[0;34m\u001b[0m\u001b[0m\n\u001b[1;32m     12\u001b[0m     \u001b[0;32mbreak\u001b[0m \u001b[0;31m# Salir del bucle si el usuario escribe 'fin'\u001b[0m\u001b[0;34m\u001b[0m\u001b[0;34m\u001b[0m\u001b[0m\n",
            "\u001b[0;32m/usr/local/lib/python3.12/dist-packages/ipykernel/kernelbase.py\u001b[0m in \u001b[0;36mraw_input\u001b[0;34m(self, prompt)\u001b[0m\n\u001b[1;32m   1175\u001b[0m                 \u001b[0;34m\"raw_input was called, but this frontend does not support input requests.\"\u001b[0m\u001b[0;34m\u001b[0m\u001b[0;34m\u001b[0m\u001b[0m\n\u001b[1;32m   1176\u001b[0m             )\n\u001b[0;32m-> 1177\u001b[0;31m         return self._input_request(\n\u001b[0m\u001b[1;32m   1178\u001b[0m             \u001b[0mstr\u001b[0m\u001b[0;34m(\u001b[0m\u001b[0mprompt\u001b[0m\u001b[0;34m)\u001b[0m\u001b[0;34m,\u001b[0m\u001b[0;34m\u001b[0m\u001b[0;34m\u001b[0m\u001b[0m\n\u001b[1;32m   1179\u001b[0m             \u001b[0mself\u001b[0m\u001b[0;34m.\u001b[0m\u001b[0m_parent_ident\u001b[0m\u001b[0;34m[\u001b[0m\u001b[0;34m\"shell\"\u001b[0m\u001b[0;34m]\u001b[0m\u001b[0;34m,\u001b[0m\u001b[0;34m\u001b[0m\u001b[0;34m\u001b[0m\u001b[0m\n",
            "\u001b[0;32m/usr/local/lib/python3.12/dist-packages/ipykernel/kernelbase.py\u001b[0m in \u001b[0;36m_input_request\u001b[0;34m(self, prompt, ident, parent, password)\u001b[0m\n\u001b[1;32m   1217\u001b[0m             \u001b[0;32mexcept\u001b[0m \u001b[0mKeyboardInterrupt\u001b[0m\u001b[0;34m:\u001b[0m\u001b[0;34m\u001b[0m\u001b[0;34m\u001b[0m\u001b[0m\n\u001b[1;32m   1218\u001b[0m                 \u001b[0;31m# re-raise KeyboardInterrupt, to truncate traceback\u001b[0m\u001b[0;34m\u001b[0m\u001b[0;34m\u001b[0m\u001b[0m\n\u001b[0;32m-> 1219\u001b[0;31m                 \u001b[0;32mraise\u001b[0m \u001b[0mKeyboardInterrupt\u001b[0m\u001b[0;34m(\u001b[0m\u001b[0;34m\"Interrupted by user\"\u001b[0m\u001b[0;34m)\u001b[0m \u001b[0;32mfrom\u001b[0m \u001b[0;32mNone\u001b[0m\u001b[0;34m\u001b[0m\u001b[0;34m\u001b[0m\u001b[0m\n\u001b[0m\u001b[1;32m   1220\u001b[0m             \u001b[0;32mexcept\u001b[0m \u001b[0mException\u001b[0m\u001b[0;34m:\u001b[0m\u001b[0;34m\u001b[0m\u001b[0;34m\u001b[0m\u001b[0m\n\u001b[1;32m   1221\u001b[0m                 \u001b[0mself\u001b[0m\u001b[0;34m.\u001b[0m\u001b[0mlog\u001b[0m\u001b[0;34m.\u001b[0m\u001b[0mwarning\u001b[0m\u001b[0;34m(\u001b[0m\u001b[0;34m\"Invalid Message:\"\u001b[0m\u001b[0;34m,\u001b[0m \u001b[0mexc_info\u001b[0m\u001b[0;34m=\u001b[0m\u001b[0;32mTrue\u001b[0m\u001b[0;34m)\u001b[0m\u001b[0;34m\u001b[0m\u001b[0;34m\u001b[0m\u001b[0m\n",
            "\u001b[0;31mKeyboardInterrupt\u001b[0m: Interrupted by user"
          ]
        }
      ]
    }
  ]
}