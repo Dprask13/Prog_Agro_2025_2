{
  "nbformat": 4,
  "nbformat_minor": 0,
  "metadata": {
    "colab": {
      "provenance": [],
      "authorship_tag": "ABX9TyMxOv0WaPtrYvydZfYqMNrb",
      "include_colab_link": true
    },
    "kernelspec": {
      "name": "python3",
      "display_name": "Python 3"
    },
    "language_info": {
      "name": "python"
    }
  },
  "cells": [
    {
      "cell_type": "markdown",
      "metadata": {
        "id": "view-in-github",
        "colab_type": "text"
      },
      "source": [
        "<a href=\"https://colab.research.google.com/github/Dprask13/Prog_Agro_2025_2/blob/main/Semanas_4_y_5_Agro.ipynb\" target=\"_parent\"><img src=\"https://colab.research.google.com/assets/colab-badge.svg\" alt=\"Open In Colab\"/></a>"
      ]
    },
    {
      "cell_type": "markdown",
      "metadata": {
        "id": "8bdaf396"
      },
      "source": [
        "## Listas, Tuplas y Diccionarios en Python: Una Explicación Detallada\n",
        "\n",
        "En Python, las **listas**, **tuplas** y **diccionarios** son estructuras de datos fundamentales utilizadas para almacenar colecciones de elementos. Aunque comparten el propósito de agrupar datos, difieren significativamente en sus características y casos de uso.\n",
        "\n",
        "### Listas\n",
        "\n",
        "Las **listas** son colecciones **ordenadas** y **mutables** de elementos. Se definen utilizando corchetes `[]` y los elementos están separados por comas.\n",
        "\n",
        "**Características Clave:**\n",
        "\n",
        "*   **Ordenadas:** Los elementos en una lista mantienen un orden específico basado en el índice en el que fueron insertados. Puedes acceder a los elementos utilizando su posición (índice) comenzando desde 0.\n",
        "*   **Mutables:** Esto significa que puedes modificar una lista después de crearla. Puedes agregar, eliminar, cambiar o reordenar elementos.\n",
        "*   **Permiten Duplicados:** Una lista puede contener múltiples ocurrencias del mismo elemento.\n",
        "*   **Versátiles:** Pueden contener elementos de diferentes tipos de datos (enteros, cadenas, flotantes, booleanos, otras listas, etc.).\n",
        "\n",
        "**Ejemplo de Lista:**"
      ]
    },
    {
      "cell_type": "code",
      "metadata": {
        "id": "af700091"
      },
      "source": [
        "mi_tupla = (1, \"hola\", 3.14, True, 1)\n",
        "print(mi_tupla[0]) # Acceder al primer elemento: 1\n",
        "# mi_tupla.append(\"nuevo\") # Esto generaría un error porque las tuplas son inmutables\n",
        "# mi_tupla[1] = \"adiós\"   # Esto también generaría un error"
      ],
      "execution_count": null,
      "outputs": []
    },
    {
      "cell_type": "code",
      "metadata": {
        "id": "d34123c9"
      },
      "source": [
        "mi_diccionario = {\"nombre\": \"Juan\", \"edad\": 30, \"ciudad\": \"Madrid\"}\n",
        "print(mi_diccionario[\"nombre\"])       # Acceder al valor asociado a la clave \"nombre\": Juan\n",
        "mi_diccionario[\"profesion\"] = \"Ingeniero\" # Agregar un nuevo par clave-valor\n",
        "mi_diccionario[\"edad\"] = 31           # Modificar el valor asociado a la clave \"edad\"\n",
        "del mi_diccionario[\"ciudad\"]        # Eliminar el par clave-valor con la clave \"ciudad\"\n",
        "print(mi_diccionario)                 # Imprimir el diccionario modificado"
      ],
      "execution_count": null,
      "outputs": []
    },
    {
      "cell_type": "markdown",
      "metadata": {
        "id": "26743e33"
      },
      "source": [
        "## Funciones en Python: Qué Son y Para Qué Son Útiles\n",
        "\n",
        "En Python, una **función** es un bloque de código organizado y reutilizable que realiza una tarea específica. Las funciones son fundamentales para escribir código limpio, modular y eficiente.\n",
        "\n",
        "**¿Qué son las Funciones?**\n",
        "\n",
        "Imagina que tienes una serie de pasos que necesitas realizar varias veces en tu programa, como calcular el área de un círculo o formatear una cadena de texto de una manera particular. En lugar de escribir el mismo código repetidamente, puedes agrupar esos pasos en una función. Luego, cada vez que necesites realizar esa tarea, simplemente \"llamas\" a la función por su nombre.\n",
        "\n",
        "Las funciones se definen utilizando la palabra clave `def`, seguida del nombre de la función, paréntesis `()` que pueden contener parámetros (entradas a la función), y dos puntos `:`. El cuerpo de la función está indentado."
      ]
    },
    {
      "cell_type": "code",
      "metadata": {
        "id": "a13fc684"
      },
      "source": [
        "def saludar(nombre): # 'nombre' es un parámetro\n",
        "  print(f\"¡Hola, {nombre}!\")\n",
        "\n",
        "saludar(\"Ana\") # \"Ana\" es el argumento\n",
        "saludar(\"Luis\") # \"Luis\" es otro argumento"
      ],
      "execution_count": null,
      "outputs": []
    },
    {
      "cell_type": "code",
      "metadata": {
        "id": "3773206c"
      },
      "source": [
        "def sumar(a, b):\n",
        "  resultado = a + b\n",
        "  return resultado # La función devuelve el valor de 'resultado'\n",
        "\n",
        "suma_total = sumar(5, 3) # La variable 'suma_total' ahora contiene 8\n",
        "print(suma_total)"
      ],
      "execution_count": null,
      "outputs": []
    }
  ]
}